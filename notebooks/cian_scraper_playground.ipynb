{
 "cells": [
  {
   "cell_type": "code",
   "execution_count": 9,
   "id": "initial_id",
   "metadata": {
    "collapsed": true,
    "ExecuteTime": {
     "end_time": "2024-05-06T13:47:39.271734Z",
     "start_time": "2024-05-06T13:47:30.764990Z"
    }
   },
   "outputs": [
    {
     "name": "stdout",
     "output_type": "stream",
     "text": [
      "\n",
      "                              Preparing to collect information from pages..\n",
      "The page from which the collection of information begins: \n",
      " https://cian.ru/cat.php?engine_version=2&p=1&with_neighbors=0&region=1&deal_type=sale&offer_type=flat&room2=1&minprice=0&maxprice=40000000\n",
      "\n",
      "Collecting information from pages with list of offers\n",
      " 1 | 1 page with list: [=>=>=>=>=>=>=>=>=>=>=>=>=>=>=>=>=>=>=>=>=>=>=>=>=>=>=>=>] 100% | Count of all parsed: 28. Progress ratio: 50 %. Average price: 124 934 982 rub\r\n",
      " 2 | 2 page with list: [=>=>=>=>=>=>=>=>=>=>=>=>=>=>=>=>=>=>=>=>=>=>=>=>=>=>=>=>] 100% | Count of all parsed: 56. Progress ratio: 100 %. Average price: 143 812 423 rub\r\n",
      "\n",
      "The collection of information from the pages with list of offers is completed\n",
      "Total number of parsed offers: 56. \n"
     ]
    }
   ],
   "source": [
    "import cianparser\n",
    "import pandas as pd\n",
    "\n",
    "additional_settings = {\n",
    "    \"start_page\": 1,\n",
    "    \"end_page\": 2,\n",
    "    \"min_price\": 0,\n",
    "    \"max_price\": 40000000\n",
    "}\n",
    "moscow_parser = cianparser.CianParser(location=\"Москва\")\n",
    "data = moscow_parser.get_flats(deal_type=\"sale\", rooms=2, with_saving_csv=False,\n",
    "                               additional_settings=additional_settings, with_extra_data=False)"
   ]
  },
  {
   "cell_type": "code",
   "execution_count": 3,
   "outputs": [
    {
     "name": "stdout",
     "output_type": "stream",
     "text": [
      "<class 'list'>\n",
      "<class 'dict'>\n"
     ]
    }
   ],
   "source": [
    "print(type(data))\n",
    "print(type(data[0]))"
   ],
   "metadata": {
    "collapsed": false,
    "ExecuteTime": {
     "end_time": "2024-05-06T13:38:43.685920Z",
     "start_time": "2024-05-06T13:38:43.681506Z"
    }
   },
   "id": "1a9ddab4b637eb38"
  },
  {
   "cell_type": "code",
   "execution_count": 4,
   "outputs": [
    {
     "data": {
      "text/plain": "                            author        author_type  \\\n0                         Мангазея          developer   \n1  MHEstate - Элитная недвижимость  real_estate_agent   \n2                         MR Group          developer   \n3  MHEstate - Элитная недвижимость  real_estate_agent   \n4                        ЭЛИТА-ЭКО          developer   \n\n                                        url location deal_type  \\\n0  https://www.cian.ru/sale/flat/301581644/   Москва      sale   \n1  https://www.cian.ru/sale/flat/300932847/   Москва      sale   \n2  https://www.cian.ru/sale/flat/299093496/   Москва      sale   \n3  https://www.cian.ru/sale/flat/298474072/   Москва      sale   \n4  https://www.cian.ru/sale/flat/292406316/   Москва      sale   \n\n  accommodation_type  floor  floors_count  rooms_count  total_meters  \\\n0               flat     -1            -1           -1          1.00   \n1               flat     10            14            1         65.20   \n2               flat     18            41            1         37.70   \n3               flat     23            23            1         54.00   \n4               flat      2            14            1         30.45   \n\n   price_per_month  commissions     price           district  \\\n0               -1            0  25544778             Щукино   \n1               -1            0  35000000          Мещанский   \n2               -1            0  24335267        Даниловский   \n3               -1            0  29000000  Хорошево-Мневники   \n4               -1            0  29201550       Дорогомилово   \n\n                street house_number    underground residential_complex  \n0           Щукинская             3      Щукинская           Интонация  \n1         Гиляровского           50  Проспект Мира                      \n2         Дубининская          59к7     Павелецкая     Павелецкая Сити  \n3      Нижние Мневники            9      Терехово               Остров  \n4  1-й Можайский тупик         8АС1       Киевская         D'ORO MILLE  ",
      "text/html": "<div>\n<style scoped>\n    .dataframe tbody tr th:only-of-type {\n        vertical-align: middle;\n    }\n\n    .dataframe tbody tr th {\n        vertical-align: top;\n    }\n\n    .dataframe thead th {\n        text-align: right;\n    }\n</style>\n<table border=\"1\" class=\"dataframe\">\n  <thead>\n    <tr style=\"text-align: right;\">\n      <th></th>\n      <th>author</th>\n      <th>author_type</th>\n      <th>url</th>\n      <th>location</th>\n      <th>deal_type</th>\n      <th>accommodation_type</th>\n      <th>floor</th>\n      <th>floors_count</th>\n      <th>rooms_count</th>\n      <th>total_meters</th>\n      <th>price_per_month</th>\n      <th>commissions</th>\n      <th>price</th>\n      <th>district</th>\n      <th>street</th>\n      <th>house_number</th>\n      <th>underground</th>\n      <th>residential_complex</th>\n    </tr>\n  </thead>\n  <tbody>\n    <tr>\n      <th>0</th>\n      <td>Мангазея</td>\n      <td>developer</td>\n      <td>https://www.cian.ru/sale/flat/301581644/</td>\n      <td>Москва</td>\n      <td>sale</td>\n      <td>flat</td>\n      <td>-1</td>\n      <td>-1</td>\n      <td>-1</td>\n      <td>1.00</td>\n      <td>-1</td>\n      <td>0</td>\n      <td>25544778</td>\n      <td>Щукино</td>\n      <td>Щукинская</td>\n      <td>3</td>\n      <td>Щукинская</td>\n      <td>Интонация</td>\n    </tr>\n    <tr>\n      <th>1</th>\n      <td>MHEstate - Элитная недвижимость</td>\n      <td>real_estate_agent</td>\n      <td>https://www.cian.ru/sale/flat/300932847/</td>\n      <td>Москва</td>\n      <td>sale</td>\n      <td>flat</td>\n      <td>10</td>\n      <td>14</td>\n      <td>1</td>\n      <td>65.20</td>\n      <td>-1</td>\n      <td>0</td>\n      <td>35000000</td>\n      <td>Мещанский</td>\n      <td>Гиляровского</td>\n      <td>50</td>\n      <td>Проспект Мира</td>\n      <td></td>\n    </tr>\n    <tr>\n      <th>2</th>\n      <td>MR Group</td>\n      <td>developer</td>\n      <td>https://www.cian.ru/sale/flat/299093496/</td>\n      <td>Москва</td>\n      <td>sale</td>\n      <td>flat</td>\n      <td>18</td>\n      <td>41</td>\n      <td>1</td>\n      <td>37.70</td>\n      <td>-1</td>\n      <td>0</td>\n      <td>24335267</td>\n      <td>Даниловский</td>\n      <td>Дубининская</td>\n      <td>59к7</td>\n      <td>Павелецкая</td>\n      <td>Павелецкая Сити</td>\n    </tr>\n    <tr>\n      <th>3</th>\n      <td>MHEstate - Элитная недвижимость</td>\n      <td>real_estate_agent</td>\n      <td>https://www.cian.ru/sale/flat/298474072/</td>\n      <td>Москва</td>\n      <td>sale</td>\n      <td>flat</td>\n      <td>23</td>\n      <td>23</td>\n      <td>1</td>\n      <td>54.00</td>\n      <td>-1</td>\n      <td>0</td>\n      <td>29000000</td>\n      <td>Хорошево-Мневники</td>\n      <td>Нижние Мневники</td>\n      <td>9</td>\n      <td>Терехово</td>\n      <td>Остров</td>\n    </tr>\n    <tr>\n      <th>4</th>\n      <td>ЭЛИТА-ЭКО</td>\n      <td>developer</td>\n      <td>https://www.cian.ru/sale/flat/292406316/</td>\n      <td>Москва</td>\n      <td>sale</td>\n      <td>flat</td>\n      <td>2</td>\n      <td>14</td>\n      <td>1</td>\n      <td>30.45</td>\n      <td>-1</td>\n      <td>0</td>\n      <td>29201550</td>\n      <td>Дорогомилово</td>\n      <td>1-й Можайский тупик</td>\n      <td>8АС1</td>\n      <td>Киевская</td>\n      <td>D'ORO MILLE</td>\n    </tr>\n  </tbody>\n</table>\n</div>"
     },
     "execution_count": 4,
     "metadata": {},
     "output_type": "execute_result"
    }
   ],
   "source": [
    "df = pd.DataFrame(data)\n",
    "df.head()"
   ],
   "metadata": {
    "collapsed": false,
    "ExecuteTime": {
     "end_time": "2024-05-06T13:38:45.656928Z",
     "start_time": "2024-05-06T13:38:45.639758Z"
    }
   },
   "id": "9c19e211fa158bde"
  },
  {
   "cell_type": "code",
   "execution_count": 7,
   "outputs": [],
   "source": [
    "df.to_csv('../data/raw/scraped_cian_raw.csv', index=False)"
   ],
   "metadata": {
    "collapsed": false,
    "ExecuteTime": {
     "end_time": "2024-05-06T13:40:42.948054Z",
     "start_time": "2024-05-06T13:40:42.943704Z"
    }
   },
   "id": "ad05516d75ed2dd0"
  },
  {
   "cell_type": "code",
   "execution_count": 10,
   "outputs": [],
   "source": [
    "import csv"
   ],
   "metadata": {
    "collapsed": false,
    "ExecuteTime": {
     "end_time": "2024-05-06T13:47:47.990584Z",
     "start_time": "2024-05-06T13:47:47.985813Z"
    }
   },
   "id": "c499355035241acc"
  },
  {
   "cell_type": "code",
   "execution_count": 11,
   "outputs": [],
   "source": [
    "fieldnames = data[0].keys()  \n",
    "\n",
    "with open('../data/raw/scraped_cian_raw.csv', 'a', newline='') as file:\n",
    "    writer = csv.DictWriter(file, fieldnames=fieldnames)\n",
    "\n",
    "    # Если файл пустой, записываем заголовки\n",
    "    if file.tell() == 0:\n",
    "        writer.writeheader()\n",
    "\n",
    "    # Записываем данные из списка словарей в CSV-файл\n",
    "    for row in data:\n",
    "        writer.writerow(row)"
   ],
   "metadata": {
    "collapsed": false,
    "ExecuteTime": {
     "end_time": "2024-05-06T13:47:50.880527Z",
     "start_time": "2024-05-06T13:47:50.874186Z"
    }
   },
   "id": "efc249c2314f4810"
  }
 ],
 "metadata": {
  "kernelspec": {
   "display_name": "Python 3",
   "language": "python",
   "name": "python3"
  },
  "language_info": {
   "codemirror_mode": {
    "name": "ipython",
    "version": 2
   },
   "file_extension": ".py",
   "mimetype": "text/x-python",
   "name": "python",
   "nbconvert_exporter": "python",
   "pygments_lexer": "ipython2",
   "version": "2.7.6"
  }
 },
 "nbformat": 4,
 "nbformat_minor": 5
}
