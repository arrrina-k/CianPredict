{
 "cells": [
  {
   "cell_type": "code",
   "execution_count": 26,
   "id": "initial_id",
   "metadata": {
    "collapsed": true,
    "ExecuteTime": {
     "end_time": "2024-05-09T16:23:31.416786Z",
     "start_time": "2024-05-09T16:23:31.409315Z"
    }
   },
   "outputs": [],
   "source": [
    "import pandas as pd"
   ]
  },
  {
   "cell_type": "code",
   "execution_count": 77,
   "outputs": [],
   "source": [
    "df = pd.read_csv('../data/raw/scraped_cian_raw.csv')"
   ],
   "metadata": {
    "collapsed": false,
    "ExecuteTime": {
     "end_time": "2024-05-09T18:39:06.010021Z",
     "start_time": "2024-05-09T18:39:05.977276Z"
    }
   },
   "id": "558db1253e2a2245"
  },
  {
   "cell_type": "code",
   "execution_count": 78,
   "outputs": [
    {
     "data": {
      "text/plain": "author                 1316\nauthor_type               7\nurl                    7047\nlocation                  1\ndeal_type                 1\naccommodation_type        1\nfloor                    53\nfloors_count             67\nrooms_count               5\ntotal_meters           1835\nprice_per_month           1\ncommissions               1\nprice                  4776\ndistrict                137\nstreet                 1037\nhouse_number           1094\nunderground             293\nresidential_complex     556\ndtype: int64"
     },
     "execution_count": 78,
     "metadata": {},
     "output_type": "execute_result"
    }
   ],
   "source": [
    "df.nunique()"
   ],
   "metadata": {
    "collapsed": false,
    "ExecuteTime": {
     "end_time": "2024-05-09T18:39:06.636063Z",
     "start_time": "2024-05-09T18:39:06.625994Z"
    }
   },
   "id": "33fe6d44d0e61dd2"
  },
  {
   "cell_type": "markdown",
   "source": [
    "# Убираем ненужные фичи"
   ],
   "metadata": {
    "collapsed": false
   },
   "id": "6ef7aceb5e99f453"
  },
  {
   "cell_type": "code",
   "execution_count": 79,
   "outputs": [],
   "source": [
    "df = df.drop_duplicates().drop(columns=['location', 'deal_type', 'accommodation_type', 'url', 'price_per_month', 'commissions', 'author', 'house_number', 'residential_complex'])"
   ],
   "metadata": {
    "collapsed": false,
    "ExecuteTime": {
     "end_time": "2024-05-09T18:39:12.114529Z",
     "start_time": "2024-05-09T18:39:12.100836Z"
    }
   },
   "id": "4009dc267249e9ef"
  },
  {
   "cell_type": "code",
   "execution_count": 80,
   "outputs": [
    {
     "data": {
      "text/plain": "            author_type  floor  floors_count  rooms_count  total_meters  \\\n0             developer     -1            -1           -1          1.00   \n1     real_estate_agent     10            14            1         65.20   \n2             developer     18            41            1         37.70   \n3     real_estate_agent     23            23            1         54.00   \n4             developer      2            14            1         30.45   \n...                 ...    ...           ...          ...           ...   \n7044  real_estate_agent      6            12            1         25.10   \n7045  real_estate_agent      1             5            1         19.40   \n7046  real_estate_agent      2             5            1         19.80   \n7047  real_estate_agent     13            28           -1         24.08   \n7048  real_estate_agent      2             4            1         20.60   \n\n           price           district               street      underground  \n0     25544778.0             Щукино           Щукинская         Щукинская  \n1     35000000.0          Мещанский         Гиляровского    Проспект Мира  \n2     24335267.0        Даниловский         Дубининская        Павелецкая  \n3     29000000.0  Хорошево-Мневники      Нижние Мневники        Терехово   \n4     29201550.0       Дорогомилово  1-й Можайский тупик         Киевская  \n...          ...                ...                  ...              ...  \n7044   6500000.0          Печатники            Гурьянова             Депо  \n7045   6200000.0          Измайлово  Измайловский проезд     Измайловская  \n7046   6400000.0      Тимирязевский             Вучетича      Гражданская  \n7047   5690000.0             Митино      Пятницкое шоссе  Пятницкое шоссе  \n7048   5690000.0      Нижегородский         шоссе Фрезер    Нижегородская  \n\n[7047 rows x 9 columns]",
      "text/html": "<div>\n<style scoped>\n    .dataframe tbody tr th:only-of-type {\n        vertical-align: middle;\n    }\n\n    .dataframe tbody tr th {\n        vertical-align: top;\n    }\n\n    .dataframe thead th {\n        text-align: right;\n    }\n</style>\n<table border=\"1\" class=\"dataframe\">\n  <thead>\n    <tr style=\"text-align: right;\">\n      <th></th>\n      <th>author_type</th>\n      <th>floor</th>\n      <th>floors_count</th>\n      <th>rooms_count</th>\n      <th>total_meters</th>\n      <th>price</th>\n      <th>district</th>\n      <th>street</th>\n      <th>underground</th>\n    </tr>\n  </thead>\n  <tbody>\n    <tr>\n      <th>0</th>\n      <td>developer</td>\n      <td>-1</td>\n      <td>-1</td>\n      <td>-1</td>\n      <td>1.00</td>\n      <td>25544778.0</td>\n      <td>Щукино</td>\n      <td>Щукинская</td>\n      <td>Щукинская</td>\n    </tr>\n    <tr>\n      <th>1</th>\n      <td>real_estate_agent</td>\n      <td>10</td>\n      <td>14</td>\n      <td>1</td>\n      <td>65.20</td>\n      <td>35000000.0</td>\n      <td>Мещанский</td>\n      <td>Гиляровского</td>\n      <td>Проспект Мира</td>\n    </tr>\n    <tr>\n      <th>2</th>\n      <td>developer</td>\n      <td>18</td>\n      <td>41</td>\n      <td>1</td>\n      <td>37.70</td>\n      <td>24335267.0</td>\n      <td>Даниловский</td>\n      <td>Дубининская</td>\n      <td>Павелецкая</td>\n    </tr>\n    <tr>\n      <th>3</th>\n      <td>real_estate_agent</td>\n      <td>23</td>\n      <td>23</td>\n      <td>1</td>\n      <td>54.00</td>\n      <td>29000000.0</td>\n      <td>Хорошево-Мневники</td>\n      <td>Нижние Мневники</td>\n      <td>Терехово</td>\n    </tr>\n    <tr>\n      <th>4</th>\n      <td>developer</td>\n      <td>2</td>\n      <td>14</td>\n      <td>1</td>\n      <td>30.45</td>\n      <td>29201550.0</td>\n      <td>Дорогомилово</td>\n      <td>1-й Можайский тупик</td>\n      <td>Киевская</td>\n    </tr>\n    <tr>\n      <th>...</th>\n      <td>...</td>\n      <td>...</td>\n      <td>...</td>\n      <td>...</td>\n      <td>...</td>\n      <td>...</td>\n      <td>...</td>\n      <td>...</td>\n      <td>...</td>\n    </tr>\n    <tr>\n      <th>7044</th>\n      <td>real_estate_agent</td>\n      <td>6</td>\n      <td>12</td>\n      <td>1</td>\n      <td>25.10</td>\n      <td>6500000.0</td>\n      <td>Печатники</td>\n      <td>Гурьянова</td>\n      <td>Депо</td>\n    </tr>\n    <tr>\n      <th>7045</th>\n      <td>real_estate_agent</td>\n      <td>1</td>\n      <td>5</td>\n      <td>1</td>\n      <td>19.40</td>\n      <td>6200000.0</td>\n      <td>Измайлово</td>\n      <td>Измайловский проезд</td>\n      <td>Измайловская</td>\n    </tr>\n    <tr>\n      <th>7046</th>\n      <td>real_estate_agent</td>\n      <td>2</td>\n      <td>5</td>\n      <td>1</td>\n      <td>19.80</td>\n      <td>6400000.0</td>\n      <td>Тимирязевский</td>\n      <td>Вучетича</td>\n      <td>Гражданская</td>\n    </tr>\n    <tr>\n      <th>7047</th>\n      <td>real_estate_agent</td>\n      <td>13</td>\n      <td>28</td>\n      <td>-1</td>\n      <td>24.08</td>\n      <td>5690000.0</td>\n      <td>Митино</td>\n      <td>Пятницкое шоссе</td>\n      <td>Пятницкое шоссе</td>\n    </tr>\n    <tr>\n      <th>7048</th>\n      <td>real_estate_agent</td>\n      <td>2</td>\n      <td>4</td>\n      <td>1</td>\n      <td>20.60</td>\n      <td>5690000.0</td>\n      <td>Нижегородский</td>\n      <td>шоссе Фрезер</td>\n      <td>Нижегородская</td>\n    </tr>\n  </tbody>\n</table>\n<p>7047 rows × 9 columns</p>\n</div>"
     },
     "execution_count": 80,
     "metadata": {},
     "output_type": "execute_result"
    }
   ],
   "source": [
    "df"
   ],
   "metadata": {
    "collapsed": false,
    "ExecuteTime": {
     "end_time": "2024-05-09T18:39:13.063882Z",
     "start_time": "2024-05-09T18:39:13.059619Z"
    }
   },
   "id": "2ed6b7dcedf82729"
  },
  {
   "cell_type": "markdown",
   "source": [
    "# Далее убираем все примеры, содержащие NaN или \"-1\""
   ],
   "metadata": {
    "collapsed": false
   },
   "id": "55d04578faebd1eb"
  },
  {
   "cell_type": "code",
   "execution_count": 81,
   "outputs": [],
   "source": [
    "indexes = df.loc[df['floors_count'] == -1].index\n",
    "df = df.drop(indexes)"
   ],
   "metadata": {
    "collapsed": false,
    "ExecuteTime": {
     "end_time": "2024-05-09T18:39:14.785494Z",
     "start_time": "2024-05-09T18:39:14.778745Z"
    }
   },
   "id": "288e20404be9bee5"
  },
  {
   "cell_type": "code",
   "execution_count": 82,
   "outputs": [],
   "source": [
    "indexes = df.loc[df['total_meters'] <= 9.00].index\n",
    "df = df.drop(indexes)"
   ],
   "metadata": {
    "collapsed": false,
    "ExecuteTime": {
     "end_time": "2024-05-09T18:39:15.203318Z",
     "start_time": "2024-05-09T18:39:15.195966Z"
    }
   },
   "id": "f160b9f3a61db54c"
  },
  {
   "cell_type": "code",
   "execution_count": 83,
   "outputs": [],
   "source": [
    "df = df.dropna(subset=\"price\")"
   ],
   "metadata": {
    "collapsed": false,
    "ExecuteTime": {
     "end_time": "2024-05-09T18:39:15.613617Z",
     "start_time": "2024-05-09T18:39:15.609243Z"
    }
   },
   "id": "5e23cba8c48f5f1b"
  },
  {
   "cell_type": "code",
   "execution_count": 84,
   "outputs": [],
   "source": [
    "indexes = df.loc[df['rooms_count'] == -1].index\n",
    "df = df.drop(indexes)"
   ],
   "metadata": {
    "collapsed": false,
    "ExecuteTime": {
     "end_time": "2024-05-09T18:39:15.977307Z",
     "start_time": "2024-05-09T18:39:15.971953Z"
    }
   },
   "id": "498c061cfdb32cd3"
  },
  {
   "cell_type": "code",
   "execution_count": 85,
   "outputs": [],
   "source": [
    "indexes = df.loc[df['floor'] == -1].index\n",
    "df = df.drop(indexes)"
   ],
   "metadata": {
    "collapsed": false,
    "ExecuteTime": {
     "end_time": "2024-05-09T18:39:16.381886Z",
     "start_time": "2024-05-09T18:39:16.379030Z"
    }
   },
   "id": "f2f2d76205d0afbe"
  },
  {
   "cell_type": "markdown",
   "source": [
    "Нужно дропнуть строки в которых и 'underground' NaN и 'district' NaN, потом посмотреть где еще остаются какие пробелы"
   ],
   "metadata": {
    "collapsed": false
   },
   "id": "ddf7462be526e6ac"
  },
  {
   "cell_type": "code",
   "execution_count": 86,
   "outputs": [],
   "source": [
    "indexes = df[(df['underground'].isna()) & (df['district'].isna())].index\n",
    "df = df.drop(indexes)"
   ],
   "metadata": {
    "collapsed": false,
    "ExecuteTime": {
     "end_time": "2024-05-09T18:39:20.151025Z",
     "start_time": "2024-05-09T18:39:20.142753Z"
    }
   },
   "id": "e8691873dbe786b4"
  },
  {
   "cell_type": "code",
   "execution_count": 87,
   "outputs": [
    {
     "name": "stdout",
     "output_type": "stream",
     "text": [
      "<class 'pandas.core.frame.DataFrame'>\n",
      "Index: 6554 entries, 1 to 7048\n",
      "Data columns (total 9 columns):\n",
      " #   Column        Non-Null Count  Dtype  \n",
      "---  ------        --------------  -----  \n",
      " 0   author_type   6296 non-null   object \n",
      " 1   floor         6554 non-null   int64  \n",
      " 2   floors_count  6554 non-null   int64  \n",
      " 3   rooms_count   6554 non-null   int64  \n",
      " 4   total_meters  6554 non-null   float64\n",
      " 5   price         6554 non-null   float64\n",
      " 6   district      4214 non-null   object \n",
      " 7   street        4027 non-null   object \n",
      " 8   underground   6432 non-null   object \n",
      "dtypes: float64(2), int64(3), object(4)\n",
      "memory usage: 512.0+ KB\n"
     ]
    }
   ],
   "source": [
    "df.info()"
   ],
   "metadata": {
    "collapsed": false,
    "ExecuteTime": {
     "end_time": "2024-05-09T18:39:20.565124Z",
     "start_time": "2024-05-09T18:39:20.562008Z"
    }
   },
   "id": "6da17096125564ff"
  },
  {
   "cell_type": "code",
   "execution_count": 88,
   "outputs": [],
   "source": [
    "df = df[df.notna().sum(axis=1) == 9]"
   ],
   "metadata": {
    "collapsed": false,
    "ExecuteTime": {
     "end_time": "2024-05-09T18:39:24.954584Z",
     "start_time": "2024-05-09T18:39:24.948748Z"
    }
   },
   "id": "bde552d6e04df38c"
  },
  {
   "cell_type": "code",
   "execution_count": 64,
   "outputs": [],
   "source": [
    "import requests\n",
    "\n",
    "def fetch_coordinates(apikey, address):\n",
    "    base_url = \"https://geocode-maps.yandex.ru/1.x\"\n",
    "    response = requests.get(base_url, params={\n",
    "        \"geocode\": address,\n",
    "        \"apikey\": apikey,\n",
    "        \"format\": \"json\",\n",
    "    })\n",
    "    response.raise_for_status()\n",
    "    found_places = response.json()['response']['GeoObjectCollection']['featureMember']\n",
    "\n",
    "    if not found_places:\n",
    "        return None\n",
    "\n",
    "    most_relevant = found_places[0]\n",
    "    lon, lat = most_relevant['GeoObject']['Point']['pos'].split(\" \")\n",
    "    return lon, lat"
   ],
   "metadata": {
    "collapsed": false,
    "ExecuteTime": {
     "end_time": "2024-05-09T18:04:31.702128Z",
     "start_time": "2024-05-09T18:04:31.700466Z"
    }
   },
   "id": "c88490cf912ab1ee"
  },
  {
   "cell_type": "code",
   "execution_count": 72,
   "outputs": [
    {
     "name": "stdout",
     "output_type": "stream",
     "text": [
      "('37.637964', '55.812529')\n",
      "('37.6251', '55.727293')\n",
      "('37.621202', '55.753544')\n",
      "None\n"
     ]
    }
   ],
   "source": [
    "apikey = ''  # ваш ключ\n",
    "\n",
    "coords = fetch_coordinates(apikey, \"Проспект Мира\")\n",
    "print(coords)  # ('37.295014', '55.608562')\n",
    "\n",
    "coords = fetch_coordinates(apikey, \"Серпуховская\")\n",
    "print(coords)  # ('37.624992', '55.726872')\n",
    "\n",
    "coords = fetch_coordinates(apikey, \"Красная площадь\")\n",
    "print(coords)  # ('37.621031', '55.753595')\n",
    "\n",
    "coords = fetch_coordinates(apikey, \"UNEXIST\")\n",
    "print(coords)  # None"
   ],
   "metadata": {
    "collapsed": false,
    "ExecuteTime": {
     "end_time": "2024-05-09T18:20:14.217241Z",
     "start_time": "2024-05-09T18:20:13.640461Z"
    }
   },
   "id": "d9b2b406e717eefa"
  },
  {
   "cell_type": "code",
   "execution_count": 67,
   "outputs": [],
   "source": [
    "coords = list()\n",
    "for underground in df['underground']:\n",
    "    coords.append(fetch_coordinates(apikey, underground))\n"
   ],
   "metadata": {
    "collapsed": false,
    "ExecuteTime": {
     "end_time": "2024-05-09T18:17:52.489856Z",
     "start_time": "2024-05-09T18:08:29.190352Z"
    }
   },
   "id": "57b0c41b58d76d11"
  },
  {
   "cell_type": "code",
   "execution_count": 68,
   "outputs": [],
   "source": [
    "df['coordinates_of_underground'] = coords"
   ],
   "metadata": {
    "collapsed": false,
    "ExecuteTime": {
     "end_time": "2024-05-09T18:18:32.492706Z",
     "start_time": "2024-05-09T18:18:32.479202Z"
    }
   },
   "id": "612e7e43de597838"
  },
  {
   "cell_type": "code",
   "execution_count": 69,
   "outputs": [
    {
     "data": {
      "text/plain": "            author_type  floor  floors_count  rooms_count  total_meters  \\\n1     real_estate_agent     10            14            1         65.20   \n2             developer     18            41            1         37.70   \n3     real_estate_agent     23            23            1         54.00   \n4             developer      2            14            1         30.45   \n5     real_estate_agent      4            14            1         45.00   \n...                 ...    ...           ...          ...           ...   \n7043  real_estate_agent      2             5            1         17.00   \n7044  real_estate_agent      6            12            1         25.10   \n7045  real_estate_agent      1             5            1         19.40   \n7046  real_estate_agent      2             5            1         19.80   \n7048  real_estate_agent      2             4            1         20.60   \n\n           price           district                        street  \\\n1     35000000.0          Мещанский                  Гиляровского   \n2     24335267.0        Даниловский                  Дубининская    \n3     29000000.0  Хорошево-Мневники               Нижние Мневники   \n4     29201550.0       Дорогомилово           1-й Можайский тупик   \n5     25750000.0            Раменки    проспект Генерала Дорохова   \n...          ...                ...                           ...   \n7043   7300000.0     Красносельский  Московско-Казанский переулок   \n7044   6500000.0          Печатники                     Гурьянова   \n7045   6200000.0          Измайлово           Измайловский проезд   \n7046   6400000.0      Тимирязевский                      Вучетича   \n7048   5690000.0      Нижегородский                  шоссе Фрезер   \n\n         underground coordinates_of_underground  \n1      Проспект Мира     (37.637964, 55.812529)  \n2         Павелецкая      (37.64736, 55.713228)  \n3          Терехово      (38.055429, 51.342904)  \n4           Киевская     (30.476622, 50.023928)  \n5            Минская     (27.461166, 53.387641)  \n...              ...                        ...  \n7043  Красносельская       (63.676109, 53.2324)  \n7044            Депо     (36.842084, 60.915985)  \n7045    Измайловская     (37.781506, 55.787761)  \n7046     Гражданская      (47.20177, 56.122916)  \n7048   Нижегородская     (44.279559, 56.595648)  \n\n[3373 rows x 10 columns]",
      "text/html": "<div>\n<style scoped>\n    .dataframe tbody tr th:only-of-type {\n        vertical-align: middle;\n    }\n\n    .dataframe tbody tr th {\n        vertical-align: top;\n    }\n\n    .dataframe thead th {\n        text-align: right;\n    }\n</style>\n<table border=\"1\" class=\"dataframe\">\n  <thead>\n    <tr style=\"text-align: right;\">\n      <th></th>\n      <th>author_type</th>\n      <th>floor</th>\n      <th>floors_count</th>\n      <th>rooms_count</th>\n      <th>total_meters</th>\n      <th>price</th>\n      <th>district</th>\n      <th>street</th>\n      <th>underground</th>\n      <th>coordinates_of_underground</th>\n    </tr>\n  </thead>\n  <tbody>\n    <tr>\n      <th>1</th>\n      <td>real_estate_agent</td>\n      <td>10</td>\n      <td>14</td>\n      <td>1</td>\n      <td>65.20</td>\n      <td>35000000.0</td>\n      <td>Мещанский</td>\n      <td>Гиляровского</td>\n      <td>Проспект Мира</td>\n      <td>(37.637964, 55.812529)</td>\n    </tr>\n    <tr>\n      <th>2</th>\n      <td>developer</td>\n      <td>18</td>\n      <td>41</td>\n      <td>1</td>\n      <td>37.70</td>\n      <td>24335267.0</td>\n      <td>Даниловский</td>\n      <td>Дубининская</td>\n      <td>Павелецкая</td>\n      <td>(37.64736, 55.713228)</td>\n    </tr>\n    <tr>\n      <th>3</th>\n      <td>real_estate_agent</td>\n      <td>23</td>\n      <td>23</td>\n      <td>1</td>\n      <td>54.00</td>\n      <td>29000000.0</td>\n      <td>Хорошево-Мневники</td>\n      <td>Нижние Мневники</td>\n      <td>Терехово</td>\n      <td>(38.055429, 51.342904)</td>\n    </tr>\n    <tr>\n      <th>4</th>\n      <td>developer</td>\n      <td>2</td>\n      <td>14</td>\n      <td>1</td>\n      <td>30.45</td>\n      <td>29201550.0</td>\n      <td>Дорогомилово</td>\n      <td>1-й Можайский тупик</td>\n      <td>Киевская</td>\n      <td>(30.476622, 50.023928)</td>\n    </tr>\n    <tr>\n      <th>5</th>\n      <td>real_estate_agent</td>\n      <td>4</td>\n      <td>14</td>\n      <td>1</td>\n      <td>45.00</td>\n      <td>25750000.0</td>\n      <td>Раменки</td>\n      <td>проспект Генерала Дорохова</td>\n      <td>Минская</td>\n      <td>(27.461166, 53.387641)</td>\n    </tr>\n    <tr>\n      <th>...</th>\n      <td>...</td>\n      <td>...</td>\n      <td>...</td>\n      <td>...</td>\n      <td>...</td>\n      <td>...</td>\n      <td>...</td>\n      <td>...</td>\n      <td>...</td>\n      <td>...</td>\n    </tr>\n    <tr>\n      <th>7043</th>\n      <td>real_estate_agent</td>\n      <td>2</td>\n      <td>5</td>\n      <td>1</td>\n      <td>17.00</td>\n      <td>7300000.0</td>\n      <td>Красносельский</td>\n      <td>Московско-Казанский переулок</td>\n      <td>Красносельская</td>\n      <td>(63.676109, 53.2324)</td>\n    </tr>\n    <tr>\n      <th>7044</th>\n      <td>real_estate_agent</td>\n      <td>6</td>\n      <td>12</td>\n      <td>1</td>\n      <td>25.10</td>\n      <td>6500000.0</td>\n      <td>Печатники</td>\n      <td>Гурьянова</td>\n      <td>Депо</td>\n      <td>(36.842084, 60.915985)</td>\n    </tr>\n    <tr>\n      <th>7045</th>\n      <td>real_estate_agent</td>\n      <td>1</td>\n      <td>5</td>\n      <td>1</td>\n      <td>19.40</td>\n      <td>6200000.0</td>\n      <td>Измайлово</td>\n      <td>Измайловский проезд</td>\n      <td>Измайловская</td>\n      <td>(37.781506, 55.787761)</td>\n    </tr>\n    <tr>\n      <th>7046</th>\n      <td>real_estate_agent</td>\n      <td>2</td>\n      <td>5</td>\n      <td>1</td>\n      <td>19.80</td>\n      <td>6400000.0</td>\n      <td>Тимирязевский</td>\n      <td>Вучетича</td>\n      <td>Гражданская</td>\n      <td>(47.20177, 56.122916)</td>\n    </tr>\n    <tr>\n      <th>7048</th>\n      <td>real_estate_agent</td>\n      <td>2</td>\n      <td>4</td>\n      <td>1</td>\n      <td>20.60</td>\n      <td>5690000.0</td>\n      <td>Нижегородский</td>\n      <td>шоссе Фрезер</td>\n      <td>Нижегородская</td>\n      <td>(44.279559, 56.595648)</td>\n    </tr>\n  </tbody>\n</table>\n<p>3373 rows × 10 columns</p>\n</div>"
     },
     "execution_count": 69,
     "metadata": {},
     "output_type": "execute_result"
    }
   ],
   "source": [
    "df"
   ],
   "metadata": {
    "collapsed": false,
    "ExecuteTime": {
     "end_time": "2024-05-09T18:18:35.261928Z",
     "start_time": "2024-05-09T18:18:35.252296Z"
    }
   },
   "id": "6d8d71d1c1ffbbbe"
  },
  {
   "cell_type": "code",
   "execution_count": 70,
   "outputs": [
    {
     "data": {
      "text/plain": "author_type                      7\nfloor                           52\nfloors_count                    61\nrooms_count                      4\ntotal_meters                  1102\nprice                         1713\ndistrict                       124\nstreet                         889\nunderground                    270\ncoordinates_of_underground     269\ndtype: int64"
     },
     "execution_count": 70,
     "metadata": {},
     "output_type": "execute_result"
    }
   ],
   "source": [
    "df.nunique()"
   ],
   "metadata": {
    "collapsed": false,
    "ExecuteTime": {
     "end_time": "2024-05-09T18:18:46.417076Z",
     "start_time": "2024-05-09T18:18:46.400662Z"
    }
   },
   "id": "d519a82e79d2f8a6"
  },
  {
   "cell_type": "code",
   "execution_count": 89,
   "outputs": [],
   "source": [
    "df.to_csv(\"../data/interim/scraped_cian_interim.csv\", index = False)"
   ],
   "metadata": {
    "collapsed": false,
    "ExecuteTime": {
     "end_time": "2024-05-09T18:39:36.754326Z",
     "start_time": "2024-05-09T18:39:36.734182Z"
    }
   },
   "id": "e2a061e08088a351"
  }
 ],
 "metadata": {
  "kernelspec": {
   "display_name": "Python 3",
   "language": "python",
   "name": "python3"
  },
  "language_info": {
   "codemirror_mode": {
    "name": "ipython",
    "version": 2
   },
   "file_extension": ".py",
   "mimetype": "text/x-python",
   "name": "python",
   "nbconvert_exporter": "python",
   "pygments_lexer": "ipython2",
   "version": "2.7.6"
  }
 },
 "nbformat": 4,
 "nbformat_minor": 5
}
